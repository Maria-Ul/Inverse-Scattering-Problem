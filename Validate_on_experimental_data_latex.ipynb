{
  "cells": [
    {
      "cell_type": "markdown",
      "metadata": {
        "id": "view-in-github",
        "colab_type": "text"
      },
      "source": [
        "<a href=\"https://colab.research.google.com/github/Maria-Ul/Inverse-Scattering-Problem/blob/master/Validate_on_experimental_data_latex.ipynb\" target=\"_parent\"><img src=\"https://colab.research.google.com/assets/colab-badge.svg\" alt=\"Open In Colab\"/></a>"
      ]
    },
    {
      "cell_type": "code",
      "execution_count": null,
      "metadata": {
        "colab": {
          "base_uri": "https://localhost:8080/"
        },
        "id": "njNGo9gvuQdi",
        "outputId": "50ecb0bb-73cd-4dc1-d1dc-6579266665ef"
      },
      "outputs": [
        {
          "output_type": "stream",
          "name": "stdout",
          "text": [
            "Mounted at /content/drive\n"
          ]
        }
      ],
      "source": [
        "import pandas as pd\n",
        "import random\n",
        "import numpy as np\n",
        "import matplotlib.pyplot as plt\n",
        "from torchvision import transforms, utils\n",
        "import torch\n",
        "from torch.utils.data import Dataset, DataLoader, SubsetRandomSampler\n",
        "import torch.nn as nn\n",
        "import torch.nn.functional as F\n",
        "from google.colab import drive\n",
        "import math\n",
        "from sklearn.metrics import mean_absolute_error,  mean_absolute_percentage_error\n",
        "\n",
        "\n",
        "drive.mount('/content/drive')"
      ]
    },
    {
      "cell_type": "code",
      "execution_count": null,
      "metadata": {
        "id": "-302Z-0Qt2CX"
      },
      "outputs": [],
      "source": [
        "class Dataset(Dataset):\n",
        "\n",
        "    def __init__(self, csv_file, all_filenames, root_dir, transform=None):\n",
        "\n",
        "        self.data = pd.read_csv(csv_file , index_col=0 , header=0).to_numpy()\n",
        "\n",
        "        self.root_dir = root_dir\n",
        "        self.transform = transform\n",
        "\n",
        "    def __len__(self):\n",
        "        return len(self.data)\n",
        "\n",
        "    def __getitem__(self, idx):\n",
        "\n",
        "        if torch.is_tensor(idx):\n",
        "            idx = idx.tolist()\n",
        "\n",
        "        sample = self.data[idx]\n",
        "        features = np.array(sample[2:],  dtype=np.float32)\n",
        "        labels = np.array([sample[0], sample[1]], dtype=np.float32)\n",
        "\n",
        "        if self.transform is not None:\n",
        "            sample = self.transform(theta_array = torch.linspace(10, 65, 256), data_arr = features, noise = True)\n",
        "\n",
        "        return  features, labels\n",
        "\n"
      ]
    },
    {
      "cell_type": "code",
      "execution_count": null,
      "metadata": {
        "id": "ZD48OvReoIuL"
      },
      "outputs": [],
      "source": [
        "class Latex_Dataset_256_length(Dataset):\n",
        "\n",
        "    def __init__(self, csv_file, all_filenames, root_dir, transform=None):\n",
        "\n",
        "        self.data = pd.read_csv(csv_file,  delimiter = '\\t', header = None).to_numpy()\n",
        "\n",
        "        self.root_dir = root_dir\n",
        "        self.transform = transform\n",
        "\n",
        "    def __len__(self):\n",
        "        return len(self.data)\n",
        "\n",
        "    def __getitem__(self, idx):\n",
        "\n",
        "        if torch.is_tensor(idx):\n",
        "            idx = idx.tolist()\n",
        "\n",
        "        sample = self.data[idx]\n",
        "        angles = np.array(sample[256:],  dtype=np.float32)\n",
        "        indicatrice = np.array(sample[:256],  dtype=np.float32)\n",
        "\n",
        "        indicatrice_interpol = np.interp(torch.linspace(10, 65, 256),angles, indicatrice)\n",
        "\n",
        "        #Преобразование M функцией\n",
        "        if self.transform is not None:\n",
        "            indicatrice_new = self.transform(theta_array = torch.linspace(10, 65, 256), data_arr = indicatrice_interpol, noise = False)\n",
        "\n",
        "        return  np.array(indicatrice_new,  dtype=np.float32)\n"
      ]
    },
    {
      "cell_type": "code",
      "execution_count": null,
      "metadata": {
        "id": "qhqtJnaLzs6D"
      },
      "outputs": [],
      "source": [
        "def Mal_func(theta_array , data_arr, noise = False, snr = 3):\n",
        "  vector_length = len(theta_array)\n",
        "  w_array = np.zeros(vector_length)\n",
        "  for i in range(vector_length):\n",
        "      theta = theta_array[i]\n",
        "      w = 1/theta*math.exp(-2*(math.log(theta/54, math.e))**2)\n",
        "      w_array[i] = w\n",
        "      data_arr[i] = data_arr[i]*w_array[i]\n",
        "\n",
        "  if noise == True:\n",
        "    min_val = min(data_arr)\n",
        "    for i in range(len(data_arr)):\n",
        "      data_arr[i] = data_arr[i]+(2*np.random.random_sample() - 1)*min_val/snr\n",
        "  return data_arr"
      ]
    },
    {
      "cell_type": "code",
      "execution_count": null,
      "metadata": {
        "id": "FG9Y8hxYduEv"
      },
      "outputs": [],
      "source": [
        "train_data = Dataset(csv_file = '/content/drive/MyDrive/Scattering_Group/PyMieScatt/scattering_dataset/data.csv', all_filenames = 0,\n",
        "                                           root_dir='content/drive/MyDrive/Scattering_Group',\n",
        "                                           transform = Mal_func)\n",
        "test_data = Dataset(csv_file='/content/drive/MyDrive/Scattering_Group/PyMieScatt/scattering_dataset/test_data.csv', all_filenames = 0,\n",
        "                                           root_dir='/content/drive/MyDrive/Scattering_Group/PyMieScatt/scattering_dataset/',\n",
        "                                           transform = Mal_func )\n",
        "val_data = Latex_Dataset_256_length(csv_file = '/content/drive/MyDrive/Scattering_Group/PyMieScatt/scattering_dataset/новые латексы/vp_latex_2.txt', all_filenames = 0,\n",
        "                                           root_dir=' ', transform = Mal_func)"
      ]
    },
    {
      "cell_type": "code",
      "execution_count": null,
      "metadata": {
        "id": "OxnlYnpBuv6c"
      },
      "outputs": [],
      "source": [
        "batch_size = 50\n",
        "data_size = len(train_data)\n",
        "\n",
        "train_fraction = 1\n",
        "train_split = int(np.floor((train_fraction) * data_size))\n",
        "\n",
        "indices = list(range(data_size))\n",
        "np.random.seed(42)\n",
        "np.random.shuffle(indices)\n",
        "\n",
        "train_indices = indices#indices[:train_split]\n",
        "train_sampler = SubsetRandomSampler(train_indices)\n",
        "\n",
        "# сделаем loader\n",
        "train_loader = torch.utils.data.DataLoader(train_data, batch_size=batch_size,\n",
        "                                           sampler=train_sampler)\n",
        "\n",
        "test_loader = torch.utils.data.DataLoader(test_data, batch_size=len(test_data))\n",
        "\n",
        "\n",
        "#Check on latex\n",
        "\n",
        "val_loader = torch.utils.data.DataLoader(val_data, batch_size=len(val_data))\n",
        "\n",
        "Mie_res = pd.read_csv('/content/drive/MyDrive/Scattering_Group/PyMieScatt/scattering_dataset/новые латексы/vp_latex_fit_res_2.txt', header = None, delimiter = '\\t')\n",
        "\n",
        "d_n = Mie_res.iloc[:,1].to_numpy()#mkm\n",
        "ri_n = Mie_res.iloc[:,2].to_numpy()\n",
        "d_sd = Mie_res.iloc[:,5].to_numpy()#mkm\n",
        "ri_sd = Mie_res.iloc[:,6].to_numpy()\n"
      ]
    },
    {
      "cell_type": "code",
      "execution_count": null,
      "metadata": {
        "id": "ZtrvICgMGZUP"
      },
      "outputs": [],
      "source": [
        "def metric_2sd_area_percent(d_n, d_pred, d_sd, ri_n , ri_pred, ri_sd):\n",
        "    cross_area = 0\n",
        "    d_counter = 0\n",
        "    ri_counter = 0\n",
        "    length = len(d_pred)\n",
        "    if len(d_pred)!=len(d_n): print('error in metric_2sd_area_percent')\n",
        "    for i in range(length):\n",
        "      d_n_i = d_n[i]\n",
        "      d_pred_i = d_pred[i]\n",
        "      d_sd_i = d_sd[i]\n",
        "      ri_n_i = ri_n[i]\n",
        "      ri_pred_i = ri_pred[i]\n",
        "      ri_sd_i = ri_sd[i]\n",
        "\n",
        "      if abs(d_n_i-d_pred_i)<=2*d_sd_i and abs(ri_n_i-ri_pred_i)<=2*ri_sd_i:\n",
        "        cross_area+=1\n",
        "      if abs(d_n_i-d_pred_i)<=2*d_sd_i:\n",
        "        d_counter+=1\n",
        "      if abs(ri_n_i-ri_pred_i)<=2*ri_sd_i:\n",
        "        ri_counter+=1\n",
        "\n",
        "    return cross_area/length*100, d_counter/length*100, ri_counter/length*100\n",
        "\n"
      ]
    },
    {
      "cell_type": "code",
      "execution_count": null,
      "metadata": {
        "id": "dXzhL5SX4E8s"
      },
      "outputs": [],
      "source": [
        "def metric_1sd_area_percent(d_n, d_pred, d_sd, ri_n , ri_pred, ri_sd):\n",
        "    cross_area = 0\n",
        "    d_counter = 0\n",
        "    ri_counter = 0\n",
        "    length = len(d_pred)\n",
        "    if len(d_pred)!=len(d_n): print('error in metric_2sd_area_percent')\n",
        "    for i in range(length):\n",
        "      d_n_i = d_n[i]\n",
        "      d_pred_i = d_pred[i]\n",
        "      d_sd_i = d_sd[i]\n",
        "      ri_n_i = ri_n[i]\n",
        "      ri_pred_i = ri_pred[i]\n",
        "      ri_sd_i = ri_sd[i]\n",
        "\n",
        "      if abs(d_n_i-d_pred_i)<=d_sd_i and abs(ri_n_i-ri_pred_i)<=ri_sd_i:\n",
        "        cross_area+=1\n",
        "      if abs(d_n_i-d_pred_i)<=d_sd_i:\n",
        "        d_counter+=1\n",
        "      if abs(ri_n_i-ri_pred_i)<=ri_sd_i:\n",
        "        ri_counter+=1\n",
        "\n",
        "    return cross_area/length*100, d_counter/length*100, ri_counter/length*100\n",
        "\n"
      ]
    },
    {
      "cell_type": "code",
      "execution_count": null,
      "metadata": {
        "id": "4NXG_UjjpkHh"
      },
      "outputs": [],
      "source": [
        "def metrics_mape(prediction, labels):\n",
        "  return np.mean(abs((prediction-labels)/labels)*100)\n",
        "\n",
        "def loss_mape(prediction, labels):\n",
        "  return  torch.mean(abs(prediction-labels)/labels*100)"
      ]
    },
    {
      "cell_type": "code",
      "execution_count": null,
      "metadata": {
        "id": "mU-sjfSZGbgS"
      },
      "outputs": [],
      "source": [
        "if torch.cuda.is_available(): device = torch.device('cuda')\n",
        "else: device = torch.device('cpu')"
      ]
    },
    {
      "cell_type": "code",
      "execution_count": null,
      "metadata": {
        "id": "leaQ8OFBszD-"
      },
      "outputs": [],
      "source": [
        "class ConvNet_new(nn.Module):\n",
        "    def __init__(self):\n",
        "        super(ConvNet_new, self).__init__()\n",
        "        self.conv1 = nn.Conv1d(in_channels=1, out_channels=21, kernel_size=7, padding=3)#lout = 256\n",
        "        #Lin = Lout => p = (k_s-1)/2\n",
        "        #Lout = Lin\n",
        "        self.conv2 = nn.Conv1d(in_channels=21, out_channels=21, kernel_size=3, padding=1)#lout = 256\n",
        "        self.conv3 = nn.Conv1d(in_channels=21, out_channels=21, kernel_size=3, padding=1)#lout = 256\n",
        "        self.conv4 = nn.Conv1d(in_channels=21, out_channels=21, kernel_size=3, padding=1)#lout = 256\n",
        "\n",
        "        #Lout = Lin/2 and channels_out*2 (due to 34-layers plains and 34-layers ResNet)  => p = (k-1)/2 - Lin/4\n",
        "        self.conv5 = nn.Conv1d(in_channels=21, out_channels=42, kernel_size=3, stride = 2, padding=1)# lout =128\n",
        "        #Lout = Lin\n",
        "        self.conv6 = nn.Conv1d(in_channels=42, out_channels=42, kernel_size=3, padding=1)#lout = 128\n",
        "        self.conv7 = nn.Conv1d(in_channels=42, out_channels=42, kernel_size=3, padding=1)#lout = 128\n",
        "\n",
        "        #Lout = Lin/2 and channels_out*2\n",
        "        self.conv8 = nn.Conv1d(in_channels=42, out_channels=84, kernel_size=3, stride = 2, padding=1)# lout = 64\n",
        "        #Lout = Lin\n",
        "        self.conv9 = nn.Conv1d(in_channels=84, out_channels=84, kernel_size=3, padding=1)#lout = 64\n",
        "        self.conv10 = nn.Conv1d(in_channels=84, out_channels=84, kernel_size=3, padding=1)#lout = 64\n",
        "\n",
        "        #reducing out_ch value. Lout = Lin\n",
        "        self.conv11= nn.Conv1d(in_channels=84, out_channels=42, kernel_size=1, padding=0)#lout = 64\n",
        "        self.conv12= nn.Conv1d(in_channels=42, out_channels=21, kernel_size=1, padding=0)#lout =64\n",
        "        self.conv13= nn.Conv1d(in_channels=21, out_channels=1, kernel_size=1, padding=0)#lout = 64\n",
        "\n",
        "        self.fc1 = nn.Linear(64, 2)\n",
        "\n",
        "    def forward(self, x):\n",
        "\n",
        "        x = F.relu(self.conv1(x))\n",
        "        x = F.relu(self.conv2(x))\n",
        "        x = F.relu(self.conv3(x))\n",
        "        x = F.relu(self.conv4(x))\n",
        "        x = F.relu(self.conv5(x))\n",
        "        x = F.relu(self.conv6(x))\n",
        "        x = F.relu(self.conv7(x))\n",
        "        x = F.relu(self.conv8(x))\n",
        "        x = F.relu(self.conv9(x))\n",
        "        x = F.relu(self.conv10(x))\n",
        "        x = F.relu(self.conv11(x))\n",
        "        x = F.relu(self.conv12(x))\n",
        "        x = F.relu(self.conv13(x))\n",
        "\n",
        "        x = torch.flatten(x, 1)\n",
        "        x = F.relu(self.fc1(x))\n",
        "\n",
        "        return x\n",
        "\n",
        "#75353 params"
      ]
    },
    {
      "cell_type": "code",
      "execution_count": null,
      "metadata": {
        "id": "BAx495c0u2vC"
      },
      "outputs": [],
      "source": [
        "class Modified_seven_ConvNet(nn.Module):\n",
        "    def __init__(self):\n",
        "        super(Modified_seven_ConvNet, self).__init__()\n",
        "        self.bn1 = nn.BatchNorm1d(num_features=1)\n",
        "        self.conv1 = nn.Conv1d(in_channels=1, out_channels=2, kernel_size=3, padding=2)\n",
        "        self.bn2 = nn.BatchNorm1d(num_features=2)\n",
        "        self.conv2 = nn.Conv1d(in_channels=2, out_channels=4, kernel_size=5, padding=2)\n",
        "        self.bn3 = nn.BatchNorm1d(num_features=4)\n",
        "        self.conv3 = nn.Conv1d(in_channels=4, out_channels=8, kernel_size=7, padding=2)\n",
        "        self.bn4 = nn.BatchNorm1d(num_features=8)\n",
        "        self.conv4 = nn.Conv1d(in_channels=8, out_channels=16, kernel_size=11, padding=2)\n",
        "        self.bn5 = nn.BatchNorm1d(num_features=16)\n",
        "        self.conv5 = nn.Conv1d(in_channels=16, out_channels=32, kernel_size=13, padding=2)\n",
        "        self.bn6 = nn.BatchNorm1d(num_features=32)\n",
        "        self.conv6 = nn.Conv1d(in_channels=32, out_channels=16, kernel_size=17, padding=2)\n",
        "        self.bn7 = nn.BatchNorm1d(num_features=16)\n",
        "        self.conv7 = nn.Conv1d(in_channels=16, out_channels=8, kernel_size=23, padding=2)\n",
        "        self.bn8 = nn.BatchNorm1d(num_features=8)\n",
        "        self.fc1 = nn.Linear(1696, 180)#\n",
        "        self.fc2 = nn.Linear(180, 2)\n",
        "\n",
        "\n",
        "    def forward(self, x):\n",
        "        x = self.bn1(x)\n",
        "        x = F.relu(self.conv1(x))\n",
        "        x = self.bn2(x)\n",
        "        x = F.relu(self.conv2(x))\n",
        "        x = self.bn3(x)\n",
        "        x = F.relu(self.conv3(x))\n",
        "        x = self.bn4(x)\n",
        "        x = F.relu(self.conv4(x))\n",
        "        x = self.bn5(x)\n",
        "        x = F.relu(self.conv5(x))\n",
        "        x = self.bn6(x)\n",
        "        x = F.relu(self.conv6(x))\n",
        "        x = self.bn7(x)\n",
        "        x = F.relu(self.conv7(x))\n",
        "        x = self.bn8(x)\n",
        "\n",
        "        x = torch.flatten(x, 1)\n",
        "        x = F.relu(self.fc1(x))\n",
        "        x = F.relu(self.fc2(x))\n",
        "        return x\n",
        "\n",
        "\n",
        "#326064"
      ]
    },
    {
      "cell_type": "code",
      "execution_count": null,
      "metadata": {
        "colab": {
          "base_uri": "https://localhost:8080/"
        },
        "id": "3rW_2ArybUM_",
        "outputId": "218af564-0c9d-41e1-d9c1-583d2ca6d7d4"
      },
      "outputs": [
        {
          "output_type": "execute_result",
          "data": {
            "text/plain": [
              "326064"
            ]
          },
          "metadata": {},
          "execution_count": 7
        }
      ],
      "source": [
        "model = Modified_seven_ConvNet()\n",
        "total_params  = sum(p.numel() for p in model.parameters() if p.requires_grad)\n",
        "total_params"
      ]
    },
    {
      "cell_type": "code",
      "execution_count": null,
      "metadata": {
        "id": "5DlwaH5WFnDE"
      },
      "outputs": [],
      "source": [
        "def train(num_epochs, loss ,metrics, scheduler, val_loader, train_loader):\n",
        "    loss_history = []\n",
        "    train_history = []\n",
        "    val_history_cross = []\n",
        "    val_history_d = []\n",
        "    val_history_n = []\n",
        "\n",
        "    epochs = np.linspace(0,num_epochs, num_epochs)\n",
        "    for epoch in range(num_epochs):\n",
        "        model.train()\n",
        "        ave_loss, ave_metrics, prediction, labels = train_epoch(model, train_loader, loss, metrics)\n",
        "        scheduler.step()\n",
        "        val_cross_area_value, val_d_area_value, val_n_area_value = val_epoch(model, val_loader)\n",
        "\n",
        "        val_history_cross.append(float(val_cross_area_value))\n",
        "        val_history_d.append(float(val_d_area_value))\n",
        "        val_history_n.append(float(val_n_area_value))\n",
        "\n",
        "        loss_history.append(float(ave_loss))\n",
        "        train_history.append(float(ave_metrics))\n",
        "\n",
        "        print(\"Epoch: %d, Average loss: %f, average metric (mape): %f\" % ((epoch+1), ave_loss, ave_metrics))#, val metric (mape): %f , val_history_value))\n",
        "\n",
        "    return [loss_history, train_history, val_history_cross, val_history_d, val_history_n, prediction, labels, epochs]\n"
      ]
    },
    {
      "cell_type": "code",
      "execution_count": null,
      "metadata": {
        "id": "dVzfnnz5F5XG"
      },
      "outputs": [],
      "source": [
        "def train_epoch(model, train_loader, loss, metrics):\n",
        "    metrics_accum = 0\n",
        "    loss_accum = 0\n",
        "    prediction_arr = []\n",
        "    labels_arr = []\n",
        "    for i_step, (x, y) in enumerate(train_loader):\n",
        "        x = x.unsqueeze(1)\n",
        "        prediction = model(x.to(device)).squeeze(1)\n",
        "        loss_value = loss((prediction/y.to(device)), torch.ones(prediction.shape).to(device))\n",
        "        metrics_value= metrics(prediction.cpu().detach().numpy(), y.detach().numpy())\n",
        "\n",
        "        optimizer.zero_grad()\n",
        "        loss_value.backward()\n",
        "        optimizer.step()\n",
        "\n",
        "        metrics_accum += metrics_value\n",
        "        loss_accum += loss_value.item()\n",
        "\n",
        "        prediction_arr.append(prediction.cpu().detach().numpy())\n",
        "        labels_arr.append(y.detach().numpy())\n",
        "\n",
        "    ave_loss = loss_accum/(i_step+1)\n",
        "    ave_metrics = metrics_accum/(i_step+1)\n",
        "\n",
        "    return ave_loss, ave_metrics, prediction_arr, labels_arr\n"
      ]
    },
    {
      "cell_type": "code",
      "execution_count": null,
      "metadata": {
        "id": "V-2HbfGZnPr-"
      },
      "outputs": [],
      "source": [
        "def val_epoch(model, val_loader):\n",
        "    model.eval()\n",
        "    with torch.no_grad():\n",
        "      metrics_accum_cross = 0\n",
        "      metrics_accum_d = 0\n",
        "      metrics_accum_n = 0\n",
        "\n",
        "      for i_step, (x) in enumerate(val_loader):\n",
        "        x = x.unsqueeze(1)\n",
        "        val_prediction = model(x.to(device))\n",
        "        prediction_arr_val = (val_prediction.cpu().detach().numpy())\n",
        "\n",
        "        ri_pred = prediction_arr_val[:,0]*1.333\n",
        "        d_pred = prediction_arr_val[:,1]/(1.333*math.pi/0.66) #mkm\n",
        "        metric_sd = metric_2sd_area_percent(d_n, d_pred, d_sd, ri_n , ri_pred, ri_sd)\n",
        "        metrics_accum_cross += metric_sd[0]\n",
        "        metrics_accum_d += metric_sd[1]\n",
        "        metrics_accum_n += metric_sd[2]\n",
        "\n",
        "    model.train()\n",
        "    return metrics_accum_cross/(i_step+1),metrics_accum_d/(i_step+1), metrics_accum_n/(i_step+1)"
      ]
    },
    {
      "cell_type": "code",
      "execution_count": null,
      "metadata": {
        "id": "HdVZtwYVGepP"
      },
      "outputs": [],
      "source": [
        "def test(metrics):\n",
        "  model.eval()\n",
        "  with torch.no_grad():\n",
        "    for i_step, (x, y) in enumerate(test_loader):\n",
        "        x = x.unsqueeze(1)\n",
        "        prediction = model(x.to(device)).squeeze(1)\n",
        "\n",
        "        metrics_value= metrics(prediction.cpu().detach().numpy(), y.detach().numpy())\n",
        "        prediction_arr = (prediction.cpu().detach().numpy())\n",
        "        labels_arr = (y.cpu().detach().numpy())\n",
        "\n",
        "  labels_arr = np.squeeze(labels_arr)\n",
        "  prediction_arr = np.squeeze(prediction_arr)\n",
        "\n",
        "\n",
        "  m_true = labels_arr[:,0]\n",
        "  m_pred = prediction_arr[:,0]\n",
        "  print('MAPE m-1  = ',mean_absolute_percentage_error(m_true-1, m_pred-1)*100 , '\\n')\n",
        "  print('mae m ', mean_absolute_error(m_true, m_pred), '\\n')\n",
        "  x_true = labels_arr[:, 1]\n",
        "  x_pred = prediction_arr[:,1]\n",
        "  print('MAPE x % = ' , mean_absolute_percentage_error(x_true, x_pred)*100, '\\n')\n",
        "\n",
        "  print(\"Ошибка суммарная %: \" , mean_absolute_percentage_error(y.detach().numpy(), prediction.cpu().detach().numpy())*100*2, '\\n')\n",
        "\n",
        "  return prediction_arr, labels_arr"
      ]
    },
    {
      "cell_type": "code",
      "execution_count": null,
      "metadata": {
        "id": "sbHoUxZ4H99X"
      },
      "outputs": [],
      "source": [
        "def graphs(loss_history, metrics_history, val_history_cross, val_history_d, val_history_n , prediction_arr, labels_arr, epochs):\n",
        "    plt.figure(figsize=(12,12))\n",
        "    plt.subplot(421)\n",
        "    plt.plot(epochs, loss_history, label = 'loss')\n",
        "    plt.xlabel('Номер эпохи')\n",
        "    plt.ylabel('Функция потери')\n",
        "    plt.yscale('log')\n",
        "    plt.legend()\n",
        "\n",
        "    plt.subplot(422)\n",
        "    plt.plot(epochs, metrics_history, label = 'metrics = mape ')\n",
        "    plt.yscale('log')\n",
        "    plt.legend()\n",
        "\n",
        "\n",
        "    plt.subplot(423)\n",
        "    plt.plot(epochs, val_history_cross, label = 'cross 2 sigma')\n",
        "    #plt.yscale('log')\n",
        "    plt.legend()\n",
        "\n",
        "    plt.subplot(424)\n",
        "    plt.plot(epochs, val_history_d, label = 'd 2 sigma ')\n",
        "    #plt.yscale('log')\n",
        "    plt.legend()\n",
        "\n",
        "    plt.subplot(425)\n",
        "    plt.plot(epochs, val_history_n, label = 'n 2 sigma ')\n",
        "    #plt.yscale('log')\n",
        "    plt.legend()\n",
        "\n",
        "\n",
        "\n",
        "    plt.subplot(426)\n",
        "    plt.plot(prediction_arr[:,0],prediction_arr[:,1], linewidth = 0, marker = 'o', label = 'pred' )\n",
        "    plt.plot(labels_arr[:,0],labels_arr[:,1], linewidth = 0, marker = 'o', label = 'true' )\n",
        "\n",
        "    plt.xlabel('Относительный показатель преломления m')\n",
        "    plt.ylabel('Дифракционный параметр x')\n",
        "    plt.legend()\n",
        "\n",
        "\n",
        "    plt.subplot(427)\n",
        "    m_true = labels_arr[:, 0]\n",
        "    m_pred = prediction_arr[:,0]\n",
        "    m_err = abs(m_true[:] - m_pred[:])\n",
        "    plt.hist(m_err, bins = 50)\n",
        "\n",
        "    length =len(m_err)\n",
        "    text_1 = \"%s\" % float('%.2g' % np.median(m_err[(length - 11):(length-1)]))\n",
        "    print('Абсолютная ошибка m = ' + text_1)\n",
        "    plt.xlabel('Ошибка по m')\n",
        "    plt.ylabel('Число частиц')\n",
        "\n",
        "    plt.subplot(428)\n",
        "    x_true = labels_arr[:, 1]\n",
        "    x_pred = prediction_arr[:,1]\n",
        "    x_err = abs(x_true - x_pred)/x_true*100\n",
        "    plt.hist(x_err, bins = 50)\n",
        "\n",
        "    length =len(x_err)\n",
        "    text_1 = \"%s\" % float('%.2g' % np.median(x_err[(length - 11):(length-1)]))  #'%s' % float('%.1g' % 0.012)\n",
        "    print('mape_x = ' + text_1 + '%')\n",
        "    plt.xlabel('Ошибка по x')\n",
        "    plt.ylabel('Число частиц')\n",
        "\n",
        "    plt.show()"
      ]
    },
    {
      "cell_type": "markdown",
      "metadata": {
        "id": "mzAcHMPf-J-r"
      },
      "source": [
        "Проверка работы сети на данных - латексных шарах"
      ]
    },
    {
      "cell_type": "code",
      "execution_count": null,
      "metadata": {
        "id": "mery9S37GGQH"
      },
      "outputs": [],
      "source": [
        "PATH = '/content/drive/MyDrive/Scattering_Group/PyMieScatt/с кластера/проверка на латексах/batch0.05k_traindata100k_Modified_seven_ConvNet_nosc_check_on_latex_restart10_long.pt'\n"
      ]
    },
    {
      "cell_type": "code",
      "source": [
        "PATH = '/content/drive/MyDrive/Scattering_Group/PyMieScatt/с кластера/проверка на латексах/ConvNet_best_1sd_metric_2.pt'"
      ],
      "metadata": {
        "id": "adUME2Si2HAA"
      },
      "execution_count": null,
      "outputs": []
    },
    {
      "cell_type": "code",
      "source": [],
      "metadata": {
        "id": "KpINSTbxSg8_"
      },
      "execution_count": null,
      "outputs": []
    },
    {
      "cell_type": "code",
      "execution_count": null,
      "metadata": {
        "id": "imxzh37iOgpe"
      },
      "outputs": [],
      "source": [
        "model = ConvNet_new().cuda()\n",
        "\n",
        "optimizer = torch.optim.Adam(model.parameters())\n",
        "checkpoint = torch.load(PATH, map_location=torch.device('cpu'))\n",
        "model.load_state_dict(checkpoint['model_state_dict'], strict=False)#\n",
        "optimizer.load_state_dict(checkpoint['optimizer_state_dict'])\n",
        "epochs = checkpoint['epoch']\n",
        "loss = checkpoint['loss']\n",
        "\n",
        "loss_history = checkpoint['loss_history']\n",
        "train_history = checkpoint['train_history']\n",
        "val_history_cross = checkpoint['val_history_cross']\n",
        "val_history_d = checkpoint['val_history_d']\n",
        "val_history_n = checkpoint['val_history_n']\n",
        "\n",
        "# start = time.time()\n",
        "\n",
        "# prediction_arr, labels_arr = test(metrics = metrics_mape)#history[3], history[4] #\n",
        "# end = time.time()\n",
        "\n",
        "# graphs(loss_history,  train_history, val_history_cross, val_history_d, val_history_n , prediction_arr, labels_arr, epochs)\n",
        "# print(end-start, len(prediction_arr))"
      ]
    },
    {
      "cell_type": "code",
      "source": [
        "\n",
        "plt.plot(epochs, loss_history)\n",
        "plt.xlabel('Epoch', fontsize = 12)\n",
        "plt.ylabel('Loss function', fontsize = 12)\n",
        "plt.yscale('log')\n",
        "plt.ylim(0.01,500)\n",
        "\n",
        "plt.savefig('loss_function_1dvgg.svg')\n",
        "\n"
      ],
      "metadata": {
        "id": "Ti9v2P4ttAtW",
        "colab": {
          "base_uri": "https://localhost:8080/",
          "height": 453
        },
        "outputId": "54c69bb5-6e47-458c-eae9-bda4fbddf2e2"
      },
      "execution_count": null,
      "outputs": [
        {
          "output_type": "display_data",
          "data": {
            "text/plain": [
              "<Figure size 640x480 with 1 Axes>"
            ],
            "image/png": "[encoded data removed]"
          },
          "metadata": {}
        }
      ]
    },
    {
      "cell_type": "code",
      "source": [
        "\n",
        "plt.plot(epochs, train_history)\n",
        "\n",
        "plt.xlabel('Epoch')\n",
        "plt.ylabel('Metric MAPE(x)+MAPE(m), %')\n",
        "plt.yscale('log')\n",
        "plt.savefig('metric_convnet.svg')\n"
      ],
      "metadata": {
        "id": "_7OiKrGCs6Sr",
        "colab": {
          "base_uri": "https://localhost:8080/",
          "height": 449
        },
        "outputId": "e727b643-6a6c-475d-b5ff-d4ac931070f5"
      },
      "execution_count": null,
      "outputs": [
        {
          "output_type": "display_data",
          "data": {
            "text/plain": [
              "<Figure size 640x480 with 1 Axes>"
            ],
            "image/png": "[encoded data removed]"
          },
          "metadata": {}
        }
      ]
    },
    {
      "cell_type": "markdown",
      "source": [
        "Анализ"
      ],
      "metadata": {
        "id": "VxZTNR9Ds3b5"
      }
    },
    {
      "cell_type": "code",
      "execution_count": null,
      "metadata": {
        "id": "uoxXuegY_v8b"
      },
      "outputs": [],
      "source": [
        "#@title\n",
        "x_true = labels_arr[:, 1]\n",
        "x_pred = prediction_arr[:,1]\n",
        "x_err = abs(x_true - x_pred)/x_true*100\n",
        "\n",
        "length =len(x_err)\n",
        "text_1 = \"%s\" % float('%.2g' % np.median(x_err[(length - 11):(length-1)]))  #'%s' % float('%.1g' % 0.012)\n",
        "print('mape_x = ' + text_1 + '%')\n",
        "plt.xlabel('Percentage error of size x', fontsize=14)\n",
        "plt.ylabel('Number of particles', fontsize=14)\n",
        "plt.hist(x_err, bins = 50)\n",
        "# plt.text(x = 100, y = 100,  s = str('MAPE(x) = '+ text_1+'%'))\n",
        "plt.text(1.5, 2000, str('MAPE(x) = '+ text_1+'%'), fontsize=14)\n",
        "\n",
        "plt.savefig('MAPE x distribution prime.svg')\n"
      ]
    },
    {
      "cell_type": "code",
      "execution_count": null,
      "metadata": {
        "id": "7EYBnZg2_Rli",
        "colab": {
          "base_uri": "https://localhost:8080/",
          "height": 453
        },
        "outputId": "0cee29cd-7717-4b18-d9d4-98389b5acf82"
      },
      "outputs": [
        {
          "output_type": "display_data",
          "data": {
            "text/plain": [
              "<Figure size 640x480 with 1 Axes>"
            ],
            "image/png": "[encoded data removed]"
          },
          "metadata": {}
        }
      ],
      "source": [
        "#@title\n",
        "m_true = labels_arr[:, 0]\n",
        "m_pred = prediction_arr[:,0]\n",
        "m_err = abs(m_true[:] - m_pred[:])\n",
        "\n",
        "length =len(m_err)\n",
        "text_1 = \"%s\" % float('%.2g' % np.median(m_err[(length - 11):(length-1)]))\n",
        "# print('Абсолютная ошибка m = ' + text_1)\n",
        "plt.xlabel('Abs. error of the refr. index m', fontsize=12)\n",
        "plt.ylabel('Number of particles', fontsize=12)\n",
        "plt.hist(m_err, bins = 50)\n",
        "plt.text(0.015, 2000, str('MAE(m) = '+ text_1), fontsize=12)\n",
        "\n",
        "plt.savefig('MAE m distribution_convnet 1dvgg.svg')\n"
      ]
    },
    {
      "cell_type": "markdown",
      "source": [
        "Подсчет времени работы"
      ],
      "metadata": {
        "id": "8C7UnPmgGH3m"
      }
    },
    {
      "cell_type": "code",
      "source": [
        "import time"
      ],
      "metadata": {
        "id": "qNjw-hdA53ap"
      },
      "execution_count": null,
      "outputs": []
    },
    {
      "cell_type": "code",
      "execution_count": null,
      "metadata": {
        "id": "B5dihNJE-pwM"
      },
      "outputs": [],
      "source": [
        "model.eval()\n",
        "start = time.time()\n",
        "with torch.no_grad():\n",
        "\n",
        "  for i_step, (x) in enumerate(val_loader):\n",
        "    x = x.unsqueeze(1).to(device)\n",
        "    val_prediction = model(x)\n",
        "end = time.time()\n",
        "\n",
        "prediction_arr_val = (val_prediction.cpu().detach().numpy())\n",
        "# prediction_arr_val = np.squeeze(prediction_arr_val)\n",
        "\n",
        "ri_pred = prediction_arr_val[:,0]*1.333\n",
        "d_pred = prediction_arr_val[:,1]/(1.333*math.pi/0.66) #mkm\n",
        "metric_sd = metric_1sd_area_percent(d_n, d_pred, d_sd, ri_n , ri_pred, ri_sd)\n"
      ]
    },
    {
      "cell_type": "code",
      "source": [
        "print(end - start)"
      ],
      "metadata": {
        "id": "89IyUDMLPHTb",
        "colab": {
          "base_uri": "https://localhost:8080/"
        },
        "outputId": "047748f6-97b3-42d1-ac5d-809a2d265c68"
      },
      "execution_count": null,
      "outputs": [
        {
          "output_type": "stream",
          "name": "stdout",
          "text": [
            "3.1558525562286377\n"
          ]
        }
      ]
    },
    {
      "cell_type": "markdown",
      "source": [
        "Подсчет метрик"
      ],
      "metadata": {
        "id": "dsW1lQMwGU6S"
      }
    },
    {
      "cell_type": "markdown",
      "metadata": {
        "id": "sKSz8NO54nTz"
      },
      "source": [
        "1 standard deviation"
      ]
    },
    {
      "cell_type": "code",
      "execution_count": null,
      "metadata": {
        "id": "03osMcr64-zO"
      },
      "outputs": [],
      "source": [
        "cross_area, d_area, ri_area = metric_sd"
      ]
    },
    {
      "cell_type": "code",
      "execution_count": null,
      "metadata": {
        "id": "FnzMu1965CwJ",
        "colab": {
          "base_uri": "https://localhost:8080/"
        },
        "outputId": "56480417-65b2-4d63-cf77-d89cda21ac92"
      },
      "outputs": [
        {
          "output_type": "execute_result",
          "data": {
            "text/plain": [
              "(0.9375, 7.187499999999999, 32.5)"
            ]
          },
          "metadata": {},
          "execution_count": 33
        }
      ],
      "source": [
        "cross_area, d_area, ri_area"
      ]
    },
    {
      "cell_type": "markdown",
      "source": [
        "2 standard deviation"
      ],
      "metadata": {
        "id": "V0Gd_H9gGSPp"
      }
    },
    {
      "cell_type": "code",
      "execution_count": null,
      "metadata": {
        "id": "aRiC0_AjM9Jb",
        "colab": {
          "base_uri": "https://localhost:8080/"
        },
        "outputId": "e1c7c93e-6cc2-4a68-90de-078109c5da58"
      },
      "outputs": [
        {
          "output_type": "execute_result",
          "data": {
            "text/plain": [
              "(7.8125, 11.25, 63.4375)"
            ]
          },
          "metadata": {},
          "execution_count": 35
        }
      ],
      "source": [
        "metric_sd = metric_2sd_area_percent(d_n, d_pred, d_sd, ri_n , ri_pred, ri_sd)\n",
        "cross_area, d_area, ri_area = metric_sd\n",
        "cross_area, d_area, ri_area"
      ]
    }
  ],
  "metadata": {
    "colab": {
      "provenance": [],
      "toc_visible": true,
      "authorship_tag": "ABX9TyP3052McZMNpvWU74G4jIoW",
      "include_colab_link": true
    },
    "kernelspec": {
      "display_name": "Python 3",
      "name": "python3"
    },
    "language_info": {
      "name": "python"
    },
    "accelerator": "GPU",
    "gpuClass": "standard"
  },
  "nbformat": 4,
  "nbformat_minor": 0
}