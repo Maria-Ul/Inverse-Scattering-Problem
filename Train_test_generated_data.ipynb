{
  "cells": [
    {
      "cell_type": "markdown",
      "metadata": {
        "id": "view-in-github",
        "colab_type": "text"
      },
      "source": [
        "<a href=\"https://colab.research.google.com/github/Maria-Ul/Inverse-Scattering-Problem/blob/master/Train_test_generated_data.ipynb\" target=\"_parent\"><img src=\"https://colab.research.google.com/assets/colab-badge.svg\" alt=\"Open In Colab\"/></a>"
      ]
    },
    {
      "cell_type": "code",
      "execution_count": null,
      "metadata": {
        "id": "KD6sT7drypci",
        "colab": {
          "base_uri": "https://localhost:8080/"
        },
        "outputId": "0eb02d22-a4b2-4f98-e0b2-b03cb8fc17ce"
      },
      "outputs": [
        {
          "output_type": "stream",
          "name": "stdout",
          "text": [
            "Drive already mounted at /content/drive; to attempt to forcibly remount, call drive.mount(\"/content/drive\", force_remount=True).\n"
          ]
        }
      ],
      "source": [
        "import pandas as pd\n",
        "import random\n",
        "import numpy as np\n",
        "import matplotlib.pyplot as plt\n",
        "from torchvision import transforms, utils\n",
        "import torch\n",
        "from torch.utils.data import Dataset, DataLoader, SubsetRandomSampler\n",
        "import torch.nn as nn\n",
        "import torch.nn.functional as F\n",
        "from google.colab import drive\n",
        "import math\n",
        "from sklearn.metrics import mean_absolute_error,  mean_absolute_percentage_error\n",
        "\n",
        "\n",
        "drive.mount('/content/drive')"
      ]
    },
    {
      "cell_type": "code",
      "execution_count": null,
      "metadata": {
        "id": "tlcb4CLal975"
      },
      "outputs": [],
      "source": [
        "class Dataset(Dataset):\n",
        "\n",
        "    def __init__(self, csv_file, transform=None):\n",
        "\n",
        "        self.data = pd.read_csv(csv_file , index_col=0 , header=0).to_numpy()\n",
        "        self.transform = transform\n",
        "\n",
        "    def __len__(self):\n",
        "        return len(self.data)\n",
        "\n",
        "    def __getitem__(self, idx):\n",
        "\n",
        "        if torch.is_tensor(idx):\n",
        "            idx = idx.tolist()\n",
        "\n",
        "        sample = self.data[idx]\n",
        "        features = np.array(sample[2:],  dtype=np.float32)\n",
        "        labels = np.array([sample[0], sample[1]], dtype=np.float32)\n",
        "\n",
        "        if self.transform is not None:\n",
        "            sample = self.transform(theta_array = torch.linspace(10, 65, len(features)), data_arr = features, noise = True, snr = 3)\n",
        "\n",
        "        return  features, labels"
      ]
    },
    {
      "cell_type": "code",
      "execution_count": null,
      "metadata": {
        "id": "B4w6Oo20N9Rl"
      },
      "outputs": [],
      "source": [
        "def Mal_func(theta_array , data_arr, noise = False, snr = 3):\n",
        "  vector_length = len(theta_array)\n",
        "  w_array = np.zeros(vector_length)\n",
        "  for i in range(vector_length):\n",
        "      theta = theta_array[i]\n",
        "      w = 1/theta*math.exp(-2*(math.log(theta/54, math.e))**2)\n",
        "      w_array[i] = w\n",
        "      data_arr[i] = data_arr[i]*w_array[i]\n",
        "\n",
        "  if noise == True:\n",
        "    min_val = min(data_arr)\n",
        "    for i in range(len(data_arr)):\n",
        "      data_arr[i] = data_arr[i]+(2*np.random.random_sample() - 1)*min_val/snr\n",
        "  return data_arr"
      ]
    },
    {
      "cell_type": "code",
      "source": [
        "csv_file = '/content/drive/MyDrive/Scattering_Group/PyMieScatt/scattering_dataset/data.csv'\n",
        "data = pd.read_csv(csv_file , index_col=0 , header=0)"
      ],
      "metadata": {
        "id": "ezKlZL5IDLZG"
      },
      "execution_count": null,
      "outputs": []
    },
    {
      "cell_type": "code",
      "source": [
        "data"
      ],
      "metadata": {
        "colab": {
          "base_uri": "https://localhost:8080/",
          "height": 488
        },
        "id": "MiacQy_QDWKW",
        "outputId": "1a6b28e6-d407-4d5e-a14e-7b5ff196659d"
      },
      "execution_count": null,
      "outputs": [
        {
          "output_type": "execute_result",
          "data": {
            "text/plain": [
              "       relative_refractive_index  size_factor          10.0  \\\n",
              "0                       1.092399    62.689335  27902.124876   \n",
              "1                       1.219157    57.900477  26985.226638   \n",
              "2                       1.171039    42.242289  18824.520306   \n",
              "3                       1.141705    54.895927  19697.045969   \n",
              "4                       1.044324    43.493601   6382.643656   \n",
              "...                          ...          ...           ...   \n",
              "79995                   1.080868    73.363850  46693.112865   \n",
              "79996                   1.092418    26.816282  15039.864023   \n",
              "79997                   1.093974    79.388750  25232.583475   \n",
              "79998                   1.038519    45.536325   7376.871226   \n",
              "79999                   1.218403    53.806951   8050.731755   \n",
              "\n",
              "       10.215686274509803  10.431372549019608  10.647058823529411  \\\n",
              "0            21362.969401        16145.345334        12924.062177   \n",
              "1            28793.515149        29407.612527        28781.727656   \n",
              "2            21370.886770        23592.139916        25321.888885   \n",
              "3            17175.334597        16854.369765        18438.647902   \n",
              "4             7234.363713         8264.651211         9277.576217   \n",
              "...                   ...                 ...                 ...   \n",
              "79995        54222.086712        57989.944012        57130.203351   \n",
              "79996        15129.129482        15051.138219        14807.974438   \n",
              "79997        24881.164235        30053.012707        38220.561022   \n",
              "79998         8498.813420         9449.266791        10084.989754   \n",
              "79999         8768.471552        10867.553063        14065.643244   \n",
              "\n",
              "       10.862745098039216  11.07843137254902  11.294117647058824  \\\n",
              "0            12032.643038       13413.025359        16632.898852   \n",
              "1            27029.701401       24412.201401        21300.566648   \n",
              "2            26439.703882       26876.158331        26613.903691   \n",
              "3            21430.824676       25208.528431        29109.700156   \n",
              "4            10111.821598       10649.888529        10822.399610   \n",
              "...                   ...                ...                 ...   \n",
              "79995        51908.386795       43612.688092        34199.053086   \n",
              "79996        14407.716000       13863.551340        13192.834452   \n",
              "79997        46470.601648       52209.573816        53738.218435   \n",
              "79998        10320.834734       10129.652055         9536.677476   \n",
              "79999        17959.426028       22077.521863        25938.885964   \n",
              "\n",
              "       11.509803921568627  ...  63.05882352941177  63.274509803921575  \\\n",
              "0            20967.965515  ...         104.380355           88.364150   \n",
              "1            18123.571186  ...         115.865184           96.185712   \n",
              "2            25685.028230  ...          61.067284           52.201635   \n",
              "3            32515.480801  ...          47.742028           72.731602   \n",
              "4            10607.710519  ...          18.645537           18.264104   \n",
              "...                   ...  ...                ...                 ...   \n",
              "79995        25785.024202  ...         140.076430          168.177177   \n",
              "79996        12416.107852  ...           8.036812            7.896481   \n",
              "79997        50577.047338  ...         158.616282          123.682667   \n",
              "79998         8609.615043  ...           5.138688            6.644053   \n",
              "79999        29109.119637  ...         189.910897          192.776198   \n",
              "\n",
              "       63.490196078431374  63.70588235294118  63.92156862745098  \\\n",
              "0               71.378812          56.575299          46.640711   \n",
              "1              125.140969         196.078341         294.176390   \n",
              "2               44.040106          37.177629          32.133724   \n",
              "3               98.013685         119.226604         132.779633   \n",
              "4               17.287749          15.806845          13.952994   \n",
              "...                   ...                ...                ...   \n",
              "79995          181.873139         177.633794         156.841620   \n",
              "79996            8.098133           8.621481           9.435597   \n",
              "79997           80.312173          42.967743          23.606724   \n",
              "79998            8.312085           9.974325          11.467459   \n",
              "79999          187.797497         175.586350         157.618774   \n",
              "\n",
              "       64.13725490196079  64.3529411764706  64.56862745098039  \\\n",
              "0              43.310896         47.068368          57.075523   \n",
              "1             399.358737        490.256437         548.426656   \n",
              "2              29.301736         28.905642          30.969461   \n",
              "3             136.438060        129.669489         113.696921   \n",
              "4              11.886558          9.782067           7.812847   \n",
              "...                  ...               ...                ...   \n",
              "79995         125.350179         91.836202          65.410559   \n",
              "79996          10.500271         11.767642          13.184052   \n",
              "79997          27.739772         52.798662          89.287598   \n",
              "79998          12.648425         13.407176          13.675977   \n",
              "79999         136.021659        113.294617          92.001046   \n",
              "\n",
              "       64.7843137254902        65.0  \n",
              "0             71.349895   87.144976  \n",
              "1            561.981331  527.897752  \n",
              "2             35.303449   41.509802  \n",
              "3             91.254911   66.095804  \n",
              "4              6.136198    4.880368  \n",
              "...                 ...         ...  \n",
              "79995         53.147047   58.199878  \n",
              "79996         14.692056   16.232501  \n",
              "79997        124.231996  145.675836  \n",
              "79998         13.434497   12.710338  \n",
              "79999         74.463264   62.494347  \n",
              "\n",
              "[80000 rows x 258 columns]"
            ],
            "text/html": [
              "\n",
              "  <div id=\"df-81c82b2a-841a-4e40-8f2d-d4201d11a74a\">\n",
              "    <div class=\"colab-df-container\">\n",
              "      <div>\n",
              "<style scoped>\n",
              "    .dataframe tbody tr th:only-of-type {\n",
              "        vertical-align: middle;\n",
              "    }\n",
              "\n",
              "    .dataframe tbody tr th {\n",
              "        vertical-align: top;\n",
              "    }\n",
              "\n",
              "    .dataframe thead th {\n",
              "        text-align: right;\n",
              "    }\n",
              "</style>\n",
              "<table border=\"1\" class=\"dataframe\">\n",
              "  <thead>\n",
              "    <tr style=\"text-align: right;\">\n",
              "      <th></th>\n",
              "      <th>relative_refractive_index</th>\n",
              "      <th>size_factor</th>\n",
              "      <th>10.0</th>\n",
              "      <th>10.215686274509803</th>\n",
              "      <th>10.431372549019608</th>\n",
              "      <th>10.647058823529411</th>\n",
              "      <th>10.862745098039216</th>\n",
              "      <th>11.07843137254902</th>\n",
              "      <th>11.294117647058824</th>\n",
              "      <th>11.509803921568627</th>\n",
              "      <th>...</th>\n",
              "      <th>63.05882352941177</th>\n",
              "      <th>63.274509803921575</th>\n",
              "      <th>63.490196078431374</th>\n",
              "      <th>63.70588235294118</th>\n",
              "      <th>63.92156862745098</th>\n",
              "      <th>64.13725490196079</th>\n",
              "      <th>64.3529411764706</th>\n",
              "      <th>64.56862745098039</th>\n",
              "      <th>64.7843137254902</th>\n",
              "      <th>65.0</th>\n",
              "    </tr>\n",
              "  </thead>\n",
              "  <tbody>\n",
              "    <tr>\n",
              "      <th>0</th>\n",
              "      <td>1.092399</td>\n",
              "      <td>62.689335</td>\n",
              "      <td>27902.124876</td>\n",
              "      <td>21362.969401</td>\n",
              "      <td>16145.345334</td>\n",
              "      <td>12924.062177</td>\n",
              "      <td>12032.643038</td>\n",
              "      <td>13413.025359</td>\n",
              "      <td>16632.898852</td>\n",
              "      <td>20967.965515</td>\n",
              "      <td>...</td>\n",
              "      <td>104.380355</td>\n",
              "      <td>88.364150</td>\n",
              "      <td>71.378812</td>\n",
              "      <td>56.575299</td>\n",
              "      <td>46.640711</td>\n",
              "      <td>43.310896</td>\n",
              "      <td>47.068368</td>\n",
              "      <td>57.075523</td>\n",
              "      <td>71.349895</td>\n",
              "      <td>87.144976</td>\n",
              "    </tr>\n",
              "    <tr>\n",
              "      <th>1</th>\n",
              "      <td>1.219157</td>\n",
              "      <td>57.900477</td>\n",
              "      <td>26985.226638</td>\n",
              "      <td>28793.515149</td>\n",
              "      <td>29407.612527</td>\n",
              "      <td>28781.727656</td>\n",
              "      <td>27029.701401</td>\n",
              "      <td>24412.201401</td>\n",
              "      <td>21300.566648</td>\n",
              "      <td>18123.571186</td>\n",
              "      <td>...</td>\n",
              "      <td>115.865184</td>\n",
              "      <td>96.185712</td>\n",
              "      <td>125.140969</td>\n",
              "      <td>196.078341</td>\n",
              "      <td>294.176390</td>\n",
              "      <td>399.358737</td>\n",
              "      <td>490.256437</td>\n",
              "      <td>548.426656</td>\n",
              "      <td>561.981331</td>\n",
              "      <td>527.897752</td>\n",
              "    </tr>\n",
              "    <tr>\n",
              "      <th>2</th>\n",
              "      <td>1.171039</td>\n",
              "      <td>42.242289</td>\n",
              "      <td>18824.520306</td>\n",
              "      <td>21370.886770</td>\n",
              "      <td>23592.139916</td>\n",
              "      <td>25321.888885</td>\n",
              "      <td>26439.703882</td>\n",
              "      <td>26876.158331</td>\n",
              "      <td>26613.903691</td>\n",
              "      <td>25685.028230</td>\n",
              "      <td>...</td>\n",
              "      <td>61.067284</td>\n",
              "      <td>52.201635</td>\n",
              "      <td>44.040106</td>\n",
              "      <td>37.177629</td>\n",
              "      <td>32.133724</td>\n",
              "      <td>29.301736</td>\n",
              "      <td>28.905642</td>\n",
              "      <td>30.969461</td>\n",
              "      <td>35.303449</td>\n",
              "      <td>41.509802</td>\n",
              "    </tr>\n",
              "    <tr>\n",
              "      <th>3</th>\n",
              "      <td>1.141705</td>\n",
              "      <td>54.895927</td>\n",
              "      <td>19697.045969</td>\n",
              "      <td>17175.334597</td>\n",
              "      <td>16854.369765</td>\n",
              "      <td>18438.647902</td>\n",
              "      <td>21430.824676</td>\n",
              "      <td>25208.528431</td>\n",
              "      <td>29109.700156</td>\n",
              "      <td>32515.480801</td>\n",
              "      <td>...</td>\n",
              "      <td>47.742028</td>\n",
              "      <td>72.731602</td>\n",
              "      <td>98.013685</td>\n",
              "      <td>119.226604</td>\n",
              "      <td>132.779633</td>\n",
              "      <td>136.438060</td>\n",
              "      <td>129.669489</td>\n",
              "      <td>113.696921</td>\n",
              "      <td>91.254911</td>\n",
              "      <td>66.095804</td>\n",
              "    </tr>\n",
              "    <tr>\n",
              "      <th>4</th>\n",
              "      <td>1.044324</td>\n",
              "      <td>43.493601</td>\n",
              "      <td>6382.643656</td>\n",
              "      <td>7234.363713</td>\n",
              "      <td>8264.651211</td>\n",
              "      <td>9277.576217</td>\n",
              "      <td>10111.821598</td>\n",
              "      <td>10649.888529</td>\n",
              "      <td>10822.399610</td>\n",
              "      <td>10607.710519</td>\n",
              "      <td>...</td>\n",
              "      <td>18.645537</td>\n",
              "      <td>18.264104</td>\n",
              "      <td>17.287749</td>\n",
              "      <td>15.806845</td>\n",
              "      <td>13.952994</td>\n",
              "      <td>11.886558</td>\n",
              "      <td>9.782067</td>\n",
              "      <td>7.812847</td>\n",
              "      <td>6.136198</td>\n",
              "      <td>4.880368</td>\n",
              "    </tr>\n",
              "    <tr>\n",
              "      <th>...</th>\n",
              "      <td>...</td>\n",
              "      <td>...</td>\n",
              "      <td>...</td>\n",
              "      <td>...</td>\n",
              "      <td>...</td>\n",
              "      <td>...</td>\n",
              "      <td>...</td>\n",
              "      <td>...</td>\n",
              "      <td>...</td>\n",
              "      <td>...</td>\n",
              "      <td>...</td>\n",
              "      <td>...</td>\n",
              "      <td>...</td>\n",
              "      <td>...</td>\n",
              "      <td>...</td>\n",
              "      <td>...</td>\n",
              "      <td>...</td>\n",
              "      <td>...</td>\n",
              "      <td>...</td>\n",
              "      <td>...</td>\n",
              "      <td>...</td>\n",
              "    </tr>\n",
              "    <tr>\n",
              "      <th>79995</th>\n",
              "      <td>1.080868</td>\n",
              "      <td>73.363850</td>\n",
              "      <td>46693.112865</td>\n",
              "      <td>54222.086712</td>\n",
              "      <td>57989.944012</td>\n",
              "      <td>57130.203351</td>\n",
              "      <td>51908.386795</td>\n",
              "      <td>43612.688092</td>\n",
              "      <td>34199.053086</td>\n",
              "      <td>25785.024202</td>\n",
              "      <td>...</td>\n",
              "      <td>140.076430</td>\n",
              "      <td>168.177177</td>\n",
              "      <td>181.873139</td>\n",
              "      <td>177.633794</td>\n",
              "      <td>156.841620</td>\n",
              "      <td>125.350179</td>\n",
              "      <td>91.836202</td>\n",
              "      <td>65.410559</td>\n",
              "      <td>53.147047</td>\n",
              "      <td>58.199878</td>\n",
              "    </tr>\n",
              "    <tr>\n",
              "      <th>79996</th>\n",
              "      <td>1.092418</td>\n",
              "      <td>26.816282</td>\n",
              "      <td>15039.864023</td>\n",
              "      <td>15129.129482</td>\n",
              "      <td>15051.138219</td>\n",
              "      <td>14807.974438</td>\n",
              "      <td>14407.716000</td>\n",
              "      <td>13863.551340</td>\n",
              "      <td>13192.834452</td>\n",
              "      <td>12416.107852</td>\n",
              "      <td>...</td>\n",
              "      <td>8.036812</td>\n",
              "      <td>7.896481</td>\n",
              "      <td>8.098133</td>\n",
              "      <td>8.621481</td>\n",
              "      <td>9.435597</td>\n",
              "      <td>10.500271</td>\n",
              "      <td>11.767642</td>\n",
              "      <td>13.184052</td>\n",
              "      <td>14.692056</td>\n",
              "      <td>16.232501</td>\n",
              "    </tr>\n",
              "    <tr>\n",
              "      <th>79997</th>\n",
              "      <td>1.093974</td>\n",
              "      <td>79.388750</td>\n",
              "      <td>25232.583475</td>\n",
              "      <td>24881.164235</td>\n",
              "      <td>30053.012707</td>\n",
              "      <td>38220.561022</td>\n",
              "      <td>46470.601648</td>\n",
              "      <td>52209.573816</td>\n",
              "      <td>53738.218435</td>\n",
              "      <td>50577.047338</td>\n",
              "      <td>...</td>\n",
              "      <td>158.616282</td>\n",
              "      <td>123.682667</td>\n",
              "      <td>80.312173</td>\n",
              "      <td>42.967743</td>\n",
              "      <td>23.606724</td>\n",
              "      <td>27.739772</td>\n",
              "      <td>52.798662</td>\n",
              "      <td>89.287598</td>\n",
              "      <td>124.231996</td>\n",
              "      <td>145.675836</td>\n",
              "    </tr>\n",
              "    <tr>\n",
              "      <th>79998</th>\n",
              "      <td>1.038519</td>\n",
              "      <td>45.536325</td>\n",
              "      <td>7376.871226</td>\n",
              "      <td>8498.813420</td>\n",
              "      <td>9449.266791</td>\n",
              "      <td>10084.989754</td>\n",
              "      <td>10320.834734</td>\n",
              "      <td>10129.652055</td>\n",
              "      <td>9536.677476</td>\n",
              "      <td>8609.615043</td>\n",
              "      <td>...</td>\n",
              "      <td>5.138688</td>\n",
              "      <td>6.644053</td>\n",
              "      <td>8.312085</td>\n",
              "      <td>9.974325</td>\n",
              "      <td>11.467459</td>\n",
              "      <td>12.648425</td>\n",
              "      <td>13.407176</td>\n",
              "      <td>13.675977</td>\n",
              "      <td>13.434497</td>\n",
              "      <td>12.710338</td>\n",
              "    </tr>\n",
              "    <tr>\n",
              "      <th>79999</th>\n",
              "      <td>1.218403</td>\n",
              "      <td>53.806951</td>\n",
              "      <td>8050.731755</td>\n",
              "      <td>8768.471552</td>\n",
              "      <td>10867.553063</td>\n",
              "      <td>14065.643244</td>\n",
              "      <td>17959.426028</td>\n",
              "      <td>22077.521863</td>\n",
              "      <td>25938.885964</td>\n",
              "      <td>29109.119637</td>\n",
              "      <td>...</td>\n",
              "      <td>189.910897</td>\n",
              "      <td>192.776198</td>\n",
              "      <td>187.797497</td>\n",
              "      <td>175.586350</td>\n",
              "      <td>157.618774</td>\n",
              "      <td>136.021659</td>\n",
              "      <td>113.294617</td>\n",
              "      <td>92.001046</td>\n",
              "      <td>74.463264</td>\n",
              "      <td>62.494347</td>\n",
              "    </tr>\n",
              "  </tbody>\n",
              "</table>\n",
              "<p>80000 rows × 258 columns</p>\n",
              "</div>\n",
              "      <button class=\"colab-df-convert\" onclick=\"convertToInteractive('df-81c82b2a-841a-4e40-8f2d-d4201d11a74a')\"\n",
              "              title=\"Convert this dataframe to an interactive table.\"\n",
              "              style=\"display:none;\">\n",
              "        \n",
              "  <svg xmlns=\"http://www.w3.org/2000/svg\" height=\"24px\"viewBox=\"0 0 24 24\"\n",
              "       width=\"24px\">\n",
              "    <path d=\"M0 0h24v24H0V0z\" fill=\"none\"/>\n",
              "    <path d=\"M18.56 5.44l.94 2.06.94-2.06 2.06-.94-2.06-.94-.94-2.06-.94 2.06-2.06.94zm-11 1L8.5 8.5l.94-2.06 2.06-.94-2.06-.94L8.5 2.5l-.94 2.06-2.06.94zm10 10l.94 2.06.94-2.06 2.06-.94-2.06-.94-.94-2.06-.94 2.06-2.06.94z\"/><path d=\"M17.41 7.96l-1.37-1.37c-.4-.4-.92-.59-1.43-.59-.52 0-1.04.2-1.43.59L10.3 9.45l-7.72 7.72c-.78.78-.78 2.05 0 2.83L4 21.41c.39.39.9.59 1.41.59.51 0 1.02-.2 1.41-.59l7.78-7.78 2.81-2.81c.8-.78.8-2.07 0-2.86zM5.41 20L4 18.59l7.72-7.72 1.47 1.35L5.41 20z\"/>\n",
              "  </svg>\n",
              "      </button>\n",
              "      \n",
              "  <style>\n",
              "    .colab-df-container {\n",
              "      display:flex;\n",
              "      flex-wrap:wrap;\n",
              "      gap: 12px;\n",
              "    }\n",
              "\n",
              "    .colab-df-convert {\n",
              "      background-color: #E8F0FE;\n",
              "      border: none;\n",
              "      border-radius: 50%;\n",
              "      cursor: pointer;\n",
              "      display: none;\n",
              "      fill: #1967D2;\n",
              "      height: 32px;\n",
              "      padding: 0 0 0 0;\n",
              "      width: 32px;\n",
              "    }\n",
              "\n",
              "    .colab-df-convert:hover {\n",
              "      background-color: #E2EBFA;\n",
              "      box-shadow: 0px 1px 2px rgba(60, 64, 67, 0.3), 0px 1px 3px 1px rgba(60, 64, 67, 0.15);\n",
              "      fill: #174EA6;\n",
              "    }\n",
              "\n",
              "    [theme=dark] .colab-df-convert {\n",
              "      background-color: #3B4455;\n",
              "      fill: #D2E3FC;\n",
              "    }\n",
              "\n",
              "    [theme=dark] .colab-df-convert:hover {\n",
              "      background-color: #434B5C;\n",
              "      box-shadow: 0px 1px 3px 1px rgba(0, 0, 0, 0.15);\n",
              "      filter: drop-shadow(0px 1px 2px rgba(0, 0, 0, 0.3));\n",
              "      fill: #FFFFFF;\n",
              "    }\n",
              "  </style>\n",
              "\n",
              "      <script>\n",
              "        const buttonEl =\n",
              "          document.querySelector('#df-81c82b2a-841a-4e40-8f2d-d4201d11a74a button.colab-df-convert');\n",
              "        buttonEl.style.display =\n",
              "          google.colab.kernel.accessAllowed ? 'block' : 'none';\n",
              "\n",
              "        async function convertToInteractive(key) {\n",
              "          const element = document.querySelector('#df-81c82b2a-841a-4e40-8f2d-d4201d11a74a');\n",
              "          const dataTable =\n",
              "            await google.colab.kernel.invokeFunction('convertToInteractive',\n",
              "                                                     [key], {});\n",
              "          if (!dataTable) return;\n",
              "\n",
              "          const docLinkHtml = 'Like what you see? Visit the ' +\n",
              "            '<a target=\"_blank\" href=https://colab.research.google.com/notebooks/data_table.ipynb>data table notebook</a>'\n",
              "            + ' to learn more about interactive tables.';\n",
              "          element.innerHTML = '';\n",
              "          dataTable['output_type'] = 'display_data';\n",
              "          await google.colab.output.renderOutput(dataTable, element);\n",
              "          const docLink = document.createElement('div');\n",
              "          docLink.innerHTML = docLinkHtml;\n",
              "          element.appendChild(docLink);\n",
              "        }\n",
              "      </script>\n",
              "    </div>\n",
              "  </div>\n",
              "  "
            ]
          },
          "metadata": {},
          "execution_count": 5
        }
      ]
    },
    {
      "cell_type": "code",
      "execution_count": null,
      "metadata": {
        "id": "miToEgLfcfYW"
      },
      "outputs": [],
      "source": [
        "train_data = Dataset(csv_file = '/content/drive/MyDrive/Scattering_Group/PyMieScatt/scattering_dataset/data.csv',\n",
        "                                           transform = Mal_func)"
      ]
    },
    {
      "cell_type": "code",
      "execution_count": null,
      "metadata": {
        "id": "i0HaU79FQFqW"
      },
      "outputs": [],
      "source": [
        "test_data = Dataset(csv_file='/content/drive/MyDrive/Scattering_Group/PyMieScatt/scattering_dataset/test_data.csv', transform = Mal_func )"
      ]
    },
    {
      "cell_type": "code",
      "execution_count": null,
      "metadata": {
        "colab": {
          "base_uri": "https://localhost:8080/",
          "height": 282
        },
        "id": "9zdwbr1w5UbQ",
        "outputId": "2fccfea9-7dfc-44fd-9ef0-9e9a46ccfd46"
      },
      "outputs": [
        {
          "output_type": "execute_result",
          "data": {
            "text/plain": [
              "[<matplotlib.lines.Line2D at 0x7fe2bd74f610>]"
            ]
          },
          "metadata": {},
          "execution_count": 7
        },
        {
          "output_type": "display_data",
          "data": {
            "text/plain": [
              "<Figure size 432x288 with 1 Axes>"
            ],
            "image/png": "[encoded data removed]"
          },
          "metadata": {
            "needs_background": "light"
          }
        }
      ],
      "source": [
        "data = pd.read_csv('/content/drive/MyDrive/Scattering_Group/PyMieScatt/scattering_dataset/data.csv',  index_col=0 , header=0).to_numpy()\n",
        "plt.plot(np.linspace(10,65,256), data[1500][2:])"
      ]
    },
    {
      "cell_type": "code",
      "execution_count": null,
      "metadata": {
        "id": "4ApQsOfAzMxG"
      },
      "outputs": [],
      "source": [
        "batch_size = 50\n",
        "data_size = len(train_data)\n",
        "\n",
        "indices = list(range(data_size))\n",
        "np.random.seed(42)\n",
        "np.random.shuffle(indices)\n",
        "\n",
        "train_indices = indices\n",
        "train_sampler = SubsetRandomSampler(train_indices)\n",
        "\n",
        "train_loader = DataLoader(train_data, batch_size=batch_size,\n",
        "                                           sampler=train_sampler)\n",
        "test_loader = DataLoader(test_data, batch_size=len(test_data))"
      ]
    },
    {
      "cell_type": "code",
      "execution_count": null,
      "metadata": {
        "id": "gjqB5S6IzYlh"
      },
      "outputs": [],
      "source": [
        "def graphs(loss_history, metrics_history, prediction_arr, labels_arr, epochs):\n",
        "    plt.figure(figsize=(12,12))\n",
        "    plt.subplot(321)\n",
        "    plt.plot(epochs, loss_history, label = 'loss')\n",
        "    plt.xlabel('Номер эпохи')\n",
        "    plt.ylabel('Функция потери')\n",
        "    plt.yscale('log')\n",
        "    plt.legend()\n",
        "\n",
        "    plt.subplot(323)\n",
        "    plt.plot(epochs, metrics_history, label = 'metrics = mape ')\n",
        "    plt.yscale('log')\n",
        "    plt.legend()\n",
        "\n",
        "    plt.subplot(324)\n",
        "    plt.plot(prediction_arr[:,0],prediction_arr[:,1], linewidth = 0, marker = 'o', label = 'pred' )\n",
        "    plt.plot(labels_arr[:,0],labels_arr[:,1], linewidth = 0, marker = 'o', label = 'true' )\n",
        "\n",
        "    plt.xlabel('Относительный показатель преломления m')\n",
        "    plt.ylabel('Дифракционный параметр x')\n",
        "    plt.legend()\n",
        "\n",
        "\n",
        "    plt.subplot(325)\n",
        "    m_true = labels_arr[:, 0]\n",
        "    m_pred = prediction_arr[:,0]\n",
        "    m_err = abs(m_true[:] - m_pred[:])\n",
        "    plt.hist(m_err, bins = 50)\n",
        "\n",
        "    length =len(m_err)\n",
        "    text_1 = \"%s\" % float('%.2g' % np.median(m_err[(length - 11):(length-1)]))\n",
        "    print('Абсолютная ошибка m = ' + text_1)\n",
        "    plt.xlabel('Ошибка по m')\n",
        "    plt.ylabel('Число частиц')\n",
        "\n",
        "    plt.subplot(326)\n",
        "    x_true = labels_arr[:, 1]\n",
        "    x_pred = prediction_arr[:,1]\n",
        "    x_err = abs(x_true - x_pred)/x_true*100\n",
        "    plt.hist(x_err, bins = 50)\n",
        "\n",
        "    length =len(x_err)\n",
        "    text_1 = \"%s\" % float('%.2g' % np.median(x_err[(length - 11):(length-1)]))  #'%s' % float('%.1g' % 0.012)\n",
        "    print('mape_x = ' + text_1 + '%')\n",
        "    plt.xlabel('Ошибка по x')\n",
        "    plt.ylabel('Число частиц')\n",
        "\n",
        "    plt.show()"
      ]
    },
    {
      "cell_type": "code",
      "execution_count": null,
      "metadata": {
        "id": "UTuL681OiAKN"
      },
      "outputs": [],
      "source": [
        "def val_epoch(model, val_loader, metrics):\n",
        "    model.eval()\n",
        "    with torch.no_grad():\n",
        "        metrics_accum = 0\n",
        "        for i_step, (x, y) in enumerate(val_loader):\n",
        "            x = x.unsqueeze(1)\n",
        "            val_prediction = model(x.to(device))\n",
        "            metrics_value = metrics(val_prediction.cpu().detach().numpy(), y.detach().numpy())\n",
        "            metrics_accum += metrics_value\n",
        "    model.train()\n",
        "    return metrics_accum/i_step\n",
        "\n",
        "def train_epoch(model, train_loader, loss, metrics):\n",
        "    metrics_accum = 0\n",
        "    loss_accum = 0\n",
        "    prediction_arr = []\n",
        "    labels_arr = []\n",
        "    for i_step, (x, y) in enumerate(train_loader):\n",
        "        x = x.unsqueeze(1)\n",
        "        prediction = model(x.to(device)).squeeze(1)\n",
        "\n",
        "        loss_value = loss((prediction/ y.to(device)), torch.ones(prediction.shape).to(device))\n",
        "\n",
        "        metrics_value= metrics(prediction.cpu().detach().numpy(), y.detach().numpy())\n",
        "\n",
        "        optimizer.zero_grad()\n",
        "        loss_value.backward()\n",
        "        optimizer.step()\n",
        "\n",
        "        metrics_accum += metrics_value\n",
        "        loss_accum += loss_value.item()\n",
        "\n",
        "        prediction_arr.append(prediction.cpu().detach().numpy())\n",
        "        labels_arr.append(y.detach().numpy())\n",
        "\n",
        "    ave_loss = loss_accum/ i_step\n",
        "    ave_metrics = metrics_accum/i_step\n",
        "\n",
        "    return ave_loss, ave_metrics, prediction_arr, labels_arr\n"
      ]
    },
    {
      "cell_type": "code",
      "execution_count": null,
      "metadata": {
        "colab": {
          "base_uri": "https://localhost:8080/"
        },
        "id": "TziLUDcHl3sn",
        "outputId": "c450d0cb-e885-4374-b07c-ed90e206eb64"
      },
      "outputs": [
        {
          "output_type": "stream",
          "name": "stdout",
          "text": [
            "cuda\n"
          ]
        }
      ],
      "source": [
        "if torch.cuda.is_available(): device = torch.device('cuda')\n",
        "else: device = torch.device('cpu')\n",
        "print(device)"
      ]
    },
    {
      "cell_type": "code",
      "execution_count": null,
      "metadata": {
        "id": "xgROX6hoyyk2"
      },
      "outputs": [],
      "source": [
        "def train(num_epochs, loss ,metrics, scheduler, val_loader, train_loader):\n",
        "    loss_history = []\n",
        "    train_history = []\n",
        "    val_history = []\n",
        "    epochs = np.linspace(0,num_epochs, num_epochs)\n",
        "    for epoch in range(num_epochs):\n",
        "        model.train()\n",
        "        ave_loss, ave_metrics, prediction, labels = train_epoch(model, train_loader, loss, metrics)\n",
        "        scheduler.step()\n",
        "        print(optimizer.param_groups[0][\"lr\"])\n",
        "\n",
        "        #val_history_value = val_epoch(model, val_loader, metrics)\n",
        "\n",
        "        #val_history.append(val_history_value)\n",
        "        loss_history.append(float(ave_loss))\n",
        "        train_history.append(float(ave_metrics))\n",
        "\n",
        "        print(\"Epoch: %d, Average loss: %f, average metric (mape): %f\" % ((epoch+1), ave_loss, ave_metrics))#, val metric (mape): %f , val_history_value))\n",
        "\n",
        "    return [loss_history, train_history, val_history, prediction, labels, epochs]"
      ]
    },
    {
      "cell_type": "code",
      "execution_count": null,
      "metadata": {
        "id": "DjL_0gfdlvgZ"
      },
      "outputs": [],
      "source": [
        "def test(metrics):\n",
        "  model.eval()\n",
        "  with torch.no_grad():\n",
        "    for i_step, (x, y) in enumerate(test_loader):\n",
        "        x = x.unsqueeze(1)\n",
        "        prediction = model(x.to(device)).squeeze(1)\n",
        "\n",
        "        metrics_value= metrics(prediction.cpu().detach().numpy(), y.detach().numpy())\n",
        "        prediction_arr = (prediction.cpu().detach().numpy())\n",
        "        labels_arr = (y.cpu().detach().numpy())\n",
        "\n",
        "\n",
        "  labels_arr = np.squeeze(labels_arr)\n",
        "  prediction_arr = np.squeeze(prediction_arr)\n",
        "\n",
        "  m_true = labels_arr[:,0]\n",
        "  m_pred = prediction_arr[:,0]\n",
        "  print('MAPE m-1 (тест) = ',mean_absolute_percentage_error(m_true-1, m_pred-1)*100)\n",
        "  print('mae m ', mean_absolute_error(m_true, m_pred))\n",
        "  x_true = labels_arr[:, 1]\n",
        "  x_pred = prediction_arr[:,1]\n",
        "  print('MAPE ошибка x (тест) = ' , mean_absolute_percentage_error(x_true, x_pred)*100)\n",
        "\n",
        "  print(\"Ошибка (тест): \" , mean_absolute_percentage_error(y.detach().numpy(), prediction.cpu().detach().numpy())*100*2)\n",
        "  return prediction_arr, labels_arr\n",
        "\n"
      ]
    },
    {
      "cell_type": "code",
      "source": [
        "class ConvNet_new(nn.Module):\n",
        "    def __init__(self):\n",
        "        super(ConvNet_new, self).__init__()\n",
        "        self.conv1 = nn.Conv1d(in_channels=1, out_channels=21, kernel_size=7, padding=3)#lout = 256\n",
        "        #Lin = Lout => p = (k_s-1)/2\n",
        "        #Lout = Lin\n",
        "        self.conv2 = nn.Conv1d(in_channels=21, out_channels=21, kernel_size=3, padding=1)#lout = 256\n",
        "        self.conv3 = nn.Conv1d(in_channels=21, out_channels=21, kernel_size=3, padding=1)#lout = 256\n",
        "        self.conv4 = nn.Conv1d(in_channels=21, out_channels=21, kernel_size=3, padding=1)#lout = 256\n",
        "\n",
        "        #Lout = Lin/2 and channels_out*2 (due to 34-layers plains and 34-layers ResNet)  => p = (k-1)/2 - Lin/4\n",
        "        self.conv5 = nn.Conv1d(in_channels=21, out_channels=42, kernel_size=3, stride = 2, padding=1)# lout =128\n",
        "        #Lout = Lin\n",
        "        self.conv6 = nn.Conv1d(in_channels=42, out_channels=42, kernel_size=3, padding=1)#lout = 128\n",
        "        self.conv7 = nn.Conv1d(in_channels=42, out_channels=42, kernel_size=3, padding=1)#lout = 128\n",
        "\n",
        "        #Lout = Lin/2 and channels_out*2\n",
        "        self.conv8 = nn.Conv1d(in_channels=42, out_channels=84, kernel_size=3, stride = 2, padding=1)# lout = 64\n",
        "        #Lout = Lin\n",
        "        self.conv9 = nn.Conv1d(in_channels=84, out_channels=84, kernel_size=3, padding=1)#lout = 64\n",
        "        self.conv10 = nn.Conv1d(in_channels=84, out_channels=84, kernel_size=3, padding=1)#lout = 64\n",
        "\n",
        "        #reducing out_ch value. Lout = Lin\n",
        "        self.conv11= nn.Conv1d(in_channels=84, out_channels=42, kernel_size=1, padding=0)#lout = 64\n",
        "        self.conv12= nn.Conv1d(in_channels=42, out_channels=21, kernel_size=1, padding=0)#lout =64\n",
        "        self.conv13= nn.Conv1d(in_channels=21, out_channels=1, kernel_size=1, padding=0)#lout = 64\n",
        "\n",
        "        self.fc1 = nn.Linear(64, 2)\n",
        "\n",
        "    def forward(self, x):\n",
        "\n",
        "        x = F.relu(self.conv1(x))\n",
        "        x = F.relu(self.conv2(x))\n",
        "        x = F.relu(self.conv3(x))\n",
        "        x = F.relu(self.conv4(x))\n",
        "        x = F.relu(self.conv5(x))\n",
        "        x = F.relu(self.conv6(x))\n",
        "        x = F.relu(self.conv7(x))\n",
        "        x = F.relu(self.conv8(x))\n",
        "        x = F.relu(self.conv9(x))\n",
        "        x = F.relu(self.conv10(x))\n",
        "        x = F.relu(self.conv11(x))\n",
        "        x = F.relu(self.conv12(x))\n",
        "        x = F.relu(self.conv13(x))\n",
        "\n",
        "        x = torch.flatten(x, 1)\n",
        "        x = F.relu(self.fc1(x))\n",
        "\n",
        "        return x\n",
        "\n",
        "#75353 params"
      ],
      "metadata": {
        "id": "qJYuiC9YNkyz"
      },
      "execution_count": null,
      "outputs": []
    },
    {
      "cell_type": "code",
      "source": [
        "model = ConvNet_new()"
      ],
      "metadata": {
        "id": "2IyG6oGMO6tL"
      },
      "execution_count": null,
      "outputs": []
    },
    {
      "cell_type": "code",
      "source": [
        "params = sum([np.prod(p.size()) for p in model.parameters()])"
      ],
      "metadata": {
        "id": "YJZfl41wO6CS"
      },
      "execution_count": null,
      "outputs": []
    },
    {
      "cell_type": "code",
      "source": [
        "params"
      ],
      "metadata": {
        "colab": {
          "base_uri": "https://localhost:8080/"
        },
        "id": "jQwgn92pPNgQ",
        "outputId": "42b5fd92-2d26-4327-d08f-576dfcc31736"
      },
      "execution_count": null,
      "outputs": [
        {
          "output_type": "execute_result",
          "data": {
            "text/plain": [
              "75353"
            ]
          },
          "metadata": {},
          "execution_count": 21
        }
      ]
    },
    {
      "cell_type": "code",
      "execution_count": null,
      "metadata": {
        "id": "FTnUOYMK4kKP"
      },
      "outputs": [],
      "source": [
        "class Modified_seven_ConvNet(nn.Module):\n",
        "    def __init__(self):\n",
        "        super(Modified_seven_ConvNet, self).__init__()\n",
        "        self.bn1 = nn.BatchNorm1d(num_features=1)\n",
        "        self.conv1 = nn.Conv1d(in_channels=1, out_channels=2, kernel_size=3, padding=2)\n",
        "        self.bn2 = nn.BatchNorm1d(num_features=2)\n",
        "        self.conv2 = nn.Conv1d(in_channels=2, out_channels=4, kernel_size=5, padding=2)\n",
        "        self.bn3 = nn.BatchNorm1d(num_features=4)\n",
        "        self.conv3 = nn.Conv1d(in_channels=4, out_channels=8, kernel_size=7, padding=2)\n",
        "        self.bn4 = nn.BatchNorm1d(num_features=8)\n",
        "        self.conv4 = nn.Conv1d(in_channels=8, out_channels=16, kernel_size=11, padding=2)\n",
        "        self.bn5 = nn.BatchNorm1d(num_features=16)\n",
        "        self.conv5 = nn.Conv1d(in_channels=16, out_channels=32, kernel_size=13, padding=2)\n",
        "        self.bn6 = nn.BatchNorm1d(num_features=32)\n",
        "        self.conv6 = nn.Conv1d(in_channels=32, out_channels=16, kernel_size=17, padding=2) #out 238\n",
        "        self.bn7 = nn.BatchNorm1d(num_features=16)\n",
        "        self.conv7 = nn.Conv1d(in_channels=16, out_channels=8, kernel_size=23, padding=2)#out 212\n",
        "        self.bn8 = nn.BatchNorm1d(num_features=8)\n",
        "        self.fc1 = nn.Linear(1696, 180)#\n",
        "        self.fc2 = nn.Linear(180, 2)\n",
        "\n",
        "\n",
        "    def forward(self, x):\n",
        "        x = self.bn1(x)\n",
        "        x = F.relu(self.conv1(x))\n",
        "        x = self.bn2(x)\n",
        "        x = F.relu(self.conv2(x))\n",
        "        x = self.bn3(x)\n",
        "        x = F.relu(self.conv3(x))\n",
        "        x = self.bn4(x)\n",
        "        x = F.relu(self.conv4(x))\n",
        "        x = self.bn5(x)\n",
        "        x = F.relu(self.conv5(x))\n",
        "        x = self.bn6(x)\n",
        "        x = F.relu(self.conv6(x))\n",
        "        x = self.bn7(x)\n",
        "        x = F.relu(self.conv7(x))\n",
        "        x = self.bn8(x)\n",
        "\n",
        "        x = torch.flatten(x, 1)\n",
        "        x = F.relu(self.fc1(x))\n",
        "        x = F.relu(self.fc2(x))\n",
        "        return x\n",
        "\n",
        "#326064 params\n"
      ]
    },
    {
      "cell_type": "markdown",
      "metadata": {
        "id": "P8R5sPoMHzbC"
      },
      "source": [
        "TRAIN"
      ]
    },
    {
      "cell_type": "code",
      "source": [
        "model = ConvNet_new().to(device)\n",
        "optimizer = torch.optim.Adam(model.parameters())\n",
        "loss = nn.MSELoss()\n",
        "scheduler = torch.optim.lr_scheduler.StepLR(optimizer, 5, 1)\n",
        "\n",
        "num_epochs = 3\n",
        "val_loader = 0\n",
        "history = train(num_epochs = num_epochs, loss = loss, metrics = metrics_mape, scheduler = scheduler, val_loader = val_loader, train_loader = train_loader )\n",
        "loss_history, train_history ,val_history, pred_train, labels_train, epochs = history[0], history[1], history[2],history[3], history[4], history[5]\n",
        "\n"
      ],
      "metadata": {
        "id": "IEsbJ6_6iiHZ"
      },
      "execution_count": null,
      "outputs": []
    },
    {
      "cell_type": "code",
      "execution_count": null,
      "metadata": {
        "id": "0zw7ogr_7Rie"
      },
      "outputs": [],
      "source": [
        "model = ConvNet_new().to(device)\n",
        "\n",
        "PATH = '/content/drive/MyDrive/Scattering_Group/PyMieScatt/с кластера/batch0.05k_traindata100k_ConvNet_nosc (2).pt'\n",
        "#PATH = '/content/drive/MyDrive/Scattering_Group/PyMieScatt/с кластера/batch0.05k_traindata100k_Modified_seven_ConvNet_nosc_restart.pt'#model = nn.DataParallel(model)\n",
        "\n",
        "optimizer = torch.optim.Adam(model.parameters())\n",
        "checkpoint = torch.load(PATH)#, map_location=torch.device('cpu'))\n",
        "model.load_state_dict(checkpoint['model_state_dict'], strict=False)#\n",
        "optimizer.load_state_dict(checkpoint['optimizer_state_dict'])\n",
        "epochs = checkpoint['epoch']\n",
        "loss = checkpoint['loss']\n",
        "\n",
        "loss_history = checkpoint['loss_history']\n",
        "train_history = checkpoint['train_history']\n",
        "\n",
        "model.train()\n",
        "\n",
        "num_epochs = 5\n",
        "scheduler = torch.optim.lr_scheduler.CosineAnnealingLR(optimizer, T_max=10, eta_min=0)\n",
        "\n",
        "history = train(num_epochs = num_epochs, loss = loss, metrics = metrics_mape, scheduler = scheduler, val_loader = val_loader, train_loader =train_loader )\n",
        "loss_history,train_history,  val_history = np.append(loss_history, history[0]), np.append(train_history, history[1]), np.append(val_history, history[2])\n",
        "epochs = np.linspace(0,len(loss_history) , len(loss_history))\n",
        "\n",
        "PATH = \"/content/drive/MyDrive/Scattering_Group/PyMieScatt/model_FC_Net_loss_mse__data_80k_CosineAnnealingLR_noise_with_validation.pt\"\n",
        "torch.save({\n",
        "            'epoch': epochs,\n",
        "            'model_state_dict': model.state_dict(),\n",
        "            'optimizer_state_dict': optimizer.state_dict(),\n",
        "            'loss': loss,\n",
        "            'loss_history': loss_history,\n",
        "            'train_history': train_history,\n",
        "            'val_history': val_history\n",
        "            }, PATH)\n",
        "\n",
        "prediction_arr, labels_arr = test(metrics = metrics_mape)#history[3], history[4] #\n",
        "# graphs(loss_history, train_history, val_history, prediction_arr, labels_arr, epochs)\n",
        "\n",
        "\n"
      ]
    },
    {
      "cell_type": "markdown",
      "source": [
        "TEST"
      ],
      "metadata": {
        "id": "zkTQcu71DlL7"
      }
    },
    {
      "cell_type": "code",
      "execution_count": null,
      "metadata": {
        "id": "xxHFZxN2lYOl"
      },
      "outputs": [],
      "source": [
        "model =Modified_seven_ConvNet().to(device)\n",
        "PATH = \"/content/drive/MyDrive/Scattering_Group/PyMieScatt/model_Modified_seven_ConvNet_loss_mse__data_100k_scheduler_CosineAnnealingLR_noise_without_validation.pt\"\n",
        "optimizer = torch.optim.Adam(model.parameters())\n",
        "\n",
        "checkpoint = torch.load(PATH, map_location=torch.device('cpu'))\n",
        "model.load_state_dict(checkpoint['model_state_dict'])\n",
        "optimizer.load_state_dict(checkpoint['optimizer_state_dict'])\n",
        "\n",
        "epochs = checkpoint['epoch']\n",
        "loss = checkpoint['loss']\n",
        "loss_history = checkpoint['loss_history']\n",
        "train_history = checkpoint['train_history']\n",
        "val_history = checkpoint['val_history']\n",
        "\n",
        "epochs = np.linspace(0,len(loss_history) , len(loss_history))\n",
        "\n",
        "prediction_arr, labels_arr = test(metrics = metrics_mape)#history[3], history[4] #\n",
        "graphs(loss_history, train_history, val_history, prediction_arr, labels_arr, epochs)\n",
        "\n"
      ]
    },
    {
      "cell_type": "markdown",
      "source": [
        "Analysis"
      ],
      "metadata": {
        "id": "p2TCmvC2Dqhn"
      }
    },
    {
      "cell_type": "code",
      "execution_count": null,
      "metadata": {
        "id": "K4PKLtx_2ow9"
      },
      "outputs": [],
      "source": [
        "#!pip install PyMieScatt\n"
      ]
    },
    {
      "cell_type": "code",
      "execution_count": null,
      "metadata": {
        "id": "3c_hR_RqzXHh"
      },
      "outputs": [],
      "source": [
        "import PyMieScatt as ps\n",
        "sample = prediction_arr[10]\n",
        "r_i = sample[0]*1.333\n",
        "d = sample[1]*660/(np.pi*1.333)\n",
        "_,_,_, ind_nn = ps.ScatteringFunction(m = r_i,\n",
        "                                          wavelength = 660,\n",
        "                                          diameter = d,\n",
        "                                          nMedium = 1.333,\n",
        "                                          minAngle = 10,\n",
        "                                          maxAngle = 65,\n",
        "                                          angularResolution = 55/255,\n",
        "                                          space = 'theta',\n",
        "                                          angleMeasure = 'degrees')\n",
        "plt.plot(np.linspace(10,65,256),ind_nn, label = 'Предсказанная индикатриса')\n",
        "plt.title('SNR = 5')\n",
        "plt.legend()\n",
        "sample = labels_arr[10]\n",
        "r_i = sample[0]*1.333\n",
        "d = sample[1]*660/(np.pi*1.333)\n",
        "_,_,_, ind_mie = ps.ScatteringFunction(m = r_i,\n",
        "                                          wavelength = 660,\n",
        "                                          diameter = d,\n",
        "                                          nMedium = 1.333,\n",
        "                                          minAngle = 10,\n",
        "                                          maxAngle = 65,\n",
        "                                          angularResolution = 55/255,\n",
        "                                          space = 'theta',\n",
        "                                          angleMeasure = 'degrees')\n",
        "plt.plot(np.linspace(10,65,256),ind_mie, label = 'Истинная индикатриса')\n",
        "\n",
        "plt.xlabel('Азимутальный угол, ɵ')\n",
        "plt.ylabel(\"Интенсивность\")\n",
        "plt.legend()\n",
        "r = 0\n",
        "for i in range(256):\n",
        "  r += (ind_nn[i] - ind_mie[i])**2\n",
        "r/256"
      ]
    },
    {
      "cell_type": "markdown",
      "metadata": {
        "id": "aNYxNnkZcHsg"
      },
      "source": [
        "Проверка сети, натренированнной на кластере\n"
      ]
    },
    {
      "cell_type": "code",
      "execution_count": null,
      "metadata": {
        "colab": {
          "base_uri": "https://localhost:8080/",
          "height": 818
        },
        "id": "yTlbXmm3dHIt",
        "outputId": "dca5079a-ccf6-48af-983b-a8e7b9ac9544"
      },
      "outputs": [
        {
          "name": "stdout",
          "output_type": "stream",
          "text": [
            "MAPE m-1 (тест) =  4.6350739896297455\n",
            "mae m  0.0024309326\n",
            "MAPE ошибка x (тест) =  0.6553701125085354\n",
            "Ошибка (тест):  0.876336358487606\n",
            "Абсолютная ошибка m = 0.0027\n",
            "mape_x = 0.63%\n"
          ]
        },
        {
          "data": {
            "image/png": "[encoded data removed]",
            "text/plain": [
              "<Figure size 864x864 with 5 Axes>"
            ]
          },
          "metadata": {},
          "output_type": "display_data"
        }
      ],
      "source": [
        "model = Modified_seven_ConvNet().to(device)\n",
        "PATH = '/content/drive/MyDrive/Scattering_Group/PyMieScatt/с кластера/проверка на латексах/batch0.05k_traindata100k_Modified_seven_ConvNet_nosc_check_on_latex_restart6_long.pt'\n",
        "optimizer = torch.optim.Adam(model.parameters())\n",
        "\n",
        "checkpoint = torch.load(PATH, map_location=torch.device('cpu'))#, map_location=torch.device('cpu'))\n",
        "model.load_state_dict(checkpoint['model_state_dict'])\n",
        "optimizer.load_state_dict(checkpoint['optimizer_state_dict'])\n",
        "\n",
        "epochs = checkpoint['epoch']\n",
        "loss = checkpoint['loss']\n",
        "loss_history = checkpoint['loss_history']\n",
        "train_history = checkpoint['train_history']\n",
        "#val_history = checkpoint['val_history']\n",
        "epochs = np.linspace(0,len(loss_history) , len(loss_history))\n",
        "prediction_arr, labels_arr = test(metrics = metrics_mape)\n",
        "\n",
        "graphs(loss_history, train_history,  prediction_arr, labels_arr, epochs)\n"
      ]
    },
    {
      "cell_type": "code",
      "execution_count": null,
      "metadata": {
        "colab": {
          "base_uri": "https://localhost:8080/",
          "height": 314
        },
        "id": "xAHnKlhOUUuu",
        "outputId": "29d428ca-bc11-4883-ea84-2774aacca477"
      },
      "outputs": [
        {
          "name": "stdout",
          "output_type": "stream",
          "text": [
            "Mean absolute error m = 0.0027\n"
          ]
        },
        {
          "data": {
            "text/plain": [
              "Text(0, 0.5, 'Number of particles')"
            ]
          },
          "execution_count": 31,
          "metadata": {},
          "output_type": "execute_result"
        },
        {
          "data": {
            "image/png": "[encoded data removed]",
            "text/plain": [
              "<Figure size 432x288 with 1 Axes>"
            ]
          },
          "metadata": {},
          "output_type": "display_data"
        }
      ],
      "source": [
        "\n",
        "m_true = labels_arr[:, 0]\n",
        "m_pred = prediction_arr[:,0]\n",
        "m_err = abs(m_true[:] - m_pred[:])\n",
        "plt.hist(m_err, bins = 50)\n",
        "\n",
        "length =len(m_err)\n",
        "text_1 = \"%s\" % float('%.2g' % np.median(m_err[(length - 11):(length-1)]))\n",
        "print('Mean absolute error m = ' + text_1)\n",
        "plt.xlabel('Mean absolute error m ')\n",
        "plt.ylabel('Number of particles')\n"
      ]
    },
    {
      "cell_type": "code",
      "execution_count": null,
      "metadata": {
        "colab": {
          "base_uri": "https://localhost:8080/"
        },
        "id": "16xmnseHTw0q",
        "outputId": "bb39de96-0a74-4e82-8d00-7293121f2c66"
      },
      "outputs": [
        {
          "name": "stdout",
          "output_type": "stream",
          "text": [
            "mape_x = 0.63%\n"
          ]
        },
        {
          "data": {
            "text/plain": [
              "Text(0, 0.5, 'Number of particles')"
            ]
          },
          "execution_count": 32,
          "metadata": {},
          "output_type": "execute_result"
        },
        {
          "data": {
            "image/png": "[encoded data removed]",
            "text/plain": [
              "<Figure size 432x288 with 1 Axes>"
            ]
          },
          "metadata": {},
          "output_type": "display_data"
        }
      ],
      "source": [
        "\n",
        "\n",
        "x_true = labels_arr[:, 1]\n",
        "x_pred = prediction_arr[:,1]\n",
        "x_err = abs(x_true - x_pred)/x_true*100\n",
        "plt.hist(x_err, bins = 50)\n",
        "\n",
        "length =len(x_err)\n",
        "text_1 = \"%s\" % float('%.2g' % np.median(x_err[(length - 11):(length-1)]))  #'%s' % float('%.1g' % 0.012)\n",
        "print('mape_x = ' + text_1 + '%')\n",
        "plt.xlabel('Mean absolute percentage error x')\n",
        "plt.ylabel('Number of particles')\n"
      ]
    },
    {
      "cell_type": "markdown",
      "source": [
        "Сравнение размеров батча"
      ],
      "metadata": {
        "id": "Br5JKZ76EJwh"
      }
    },
    {
      "cell_type": "code",
      "execution_count": null,
      "metadata": {
        "colab": {
          "base_uri": "https://localhost:8080/",
          "height": 266
        },
        "id": "faKqBsiJxLen",
        "outputId": "67484962-129a-4304-aac4-b8cb2f5ffd0e"
      },
      "outputs": [
        {
          "data": {
            "image/png": "[encoded data removed]",
            "text/plain": [
              "<Figure size 432x288 with 1 Axes>"
            ]
          },
          "metadata": {},
          "output_type": "display_data"
        }
      ],
      "source": [
        "model = Modified_seven_ConvNet().to(device)\n",
        "\n",
        "PATH3 = '/content/drive/MyDrive/Scattering_Group/PyMieScatt/с кластера/batch0.075k_traindata100k_sevenconvnet.pt'\n",
        "PATH2 = '/content/drive/MyDrive/Scattering_Group/PyMieScatt/с кластера/batch0.05k_traindata100k_sevenconvnet.pt'\n",
        "PATH1 = \"/content/drive/MyDrive/Scattering_Group/PyMieScatt/с кластера/batch10_traindata100k_sevenconvnet.pt\"\n",
        "PATH4 = '/content/drive/MyDrive/Scattering_Group/PyMieScatt/с кластера/batch0.1k_traindata100k_sevenconvnet.pt'\n",
        "\n",
        "path_arr = [PATH1,PATH2,PATH3,PATH4]\n",
        "k = 0\n",
        "for PATH  in path_arr:\n",
        "  k = k+1\n",
        "  checkpoint = torch.load(PATH, map_location=torch.device('cpu'))#, map_location=torch.device('cpu'))\n",
        "  model.load_state_dict(checkpoint['model_state_dict'])\n",
        "  optimizer.load_state_dict(checkpoint['optimizer_state_dict'])\n",
        "\n",
        "  epochs = checkpoint['epoch']\n",
        "  loss = checkpoint['loss']\n",
        "  loss_history = checkpoint['loss_history']\n",
        "  train_history = checkpoint['train_history']\n",
        "\n",
        "  epochs = np.linspace(0,len(loss_history) , len(loss_history))\n",
        "\n",
        "  plt.plot(epochs, train_history, label = k )\n",
        "  plt.yscale('log')\n",
        "  plt.legend()\n"
      ]
    }
  ],
  "metadata": {
    "accelerator": "GPU",
    "colab": {
      "provenance": [],
      "mount_file_id": "1e3n0CSgUOeA7eJrZC26GOMY2SNJFwKZH",
      "authorship_tag": "ABX9TyMl4ZI3JvSl81rg4Ymz9mdz",
      "include_colab_link": true
    },
    "kernelspec": {
      "display_name": "Python 3",
      "name": "python3"
    },
    "language_info": {
      "name": "python"
    }
  },
  "nbformat": 4,
  "nbformat_minor": 0
}